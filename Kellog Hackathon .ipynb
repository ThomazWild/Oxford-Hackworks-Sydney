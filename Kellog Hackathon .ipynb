{
 "cells": [
  {
   "cell_type": "code",
   "execution_count": 135,
   "metadata": {},
   "outputs": [],
   "source": [
    "# Create your first MLP in Keras\n",
    "from keras.models import Sequential\n",
    "from keras.layers import Dense\n",
    "import numpy\n",
    "import pandas as pd\n",
    "\n",
    "# fix random seed for reproducibility\n",
    "numpy.random.seed(23)\n",
    "\n",
    "import tensorflow as tf"
   ]
  },
  {
   "cell_type": "code",
   "execution_count": 140,
   "metadata": {},
   "outputs": [
    {
     "data": {
      "text/html": [
       "<div>\n",
       "<style scoped>\n",
       "    .dataframe tbody tr th:only-of-type {\n",
       "        vertical-align: middle;\n",
       "    }\n",
       "\n",
       "    .dataframe tbody tr th {\n",
       "        vertical-align: top;\n",
       "    }\n",
       "\n",
       "    .dataframe thead th {\n",
       "        text-align: right;\n",
       "    }\n",
       "</style>\n",
       "<table border=\"1\" class=\"dataframe\">\n",
       "  <thead>\n",
       "    <tr style=\"text-align: right;\">\n",
       "      <th></th>\n",
       "      <th>ID</th>\n",
       "      <th>Price</th>\n",
       "      <th>Quantity</th>\n",
       "      <th>Rating</th>\n",
       "      <th>Color</th>\n",
       "      <th>Size</th>\n",
       "      <th>Material</th>\n",
       "      <th>Type</th>\n",
       "    </tr>\n",
       "  </thead>\n",
       "  <tbody>\n",
       "    <tr>\n",
       "      <td>0</td>\n",
       "      <td>P2008</td>\n",
       "      <td>100$</td>\n",
       "      <td>50</td>\n",
       "      <td>1</td>\n",
       "      <td>Red</td>\n",
       "      <td>L</td>\n",
       "      <td>Wood</td>\n",
       "      <td>Table</td>\n",
       "    </tr>\n",
       "  </tbody>\n",
       "</table>\n",
       "</div>"
      ],
      "text/plain": [
       "      ID Price  Quantity  Rating Color Size Material   Type\n",
       "0  P2008  100$        50       1   Red    L     Wood  Table"
      ]
     },
     "execution_count": 140,
     "metadata": {},
     "output_type": "execute_result"
    }
   ],
   "source": [
    "from sklearn.model_selection import train_test_split\n",
    "#DATA\n",
    "data = pd.read_csv(\"Table 1.csv\")\n",
    "data.head(10)\n",
    "\n",
    "#Input\n",
    "user = pd.read_csv(\"Input.csv\")\n",
    "user.head(10)\n"
   ]
  },
  {
   "cell_type": "code",
   "execution_count": 141,
   "metadata": {},
   "outputs": [
    {
     "name": "stdout",
     "output_type": "stream",
     "text": [
      "        ID    Price  Quantity  Rating   Color Size        Material  \\\n",
      "0    P2008  100.000       100       1     Red    L            Wood   \n",
      "1    S2016   50.000         2       2    Blue    M          Steel    \n",
      "2    T2005   60.000         3       3   Green    S  Aluminun Alloy   \n",
      "3    N2007   75.234         5       4    Blue    L         Plastic   \n",
      "4    P2015  123.000        65       5   Green    S            Wood   \n",
      "..     ...      ...       ...     ...     ...  ...             ...   \n",
      "195  S2016    4.000       262       4    Blue    L         Plastic   \n",
      "196  N2007   34.000         9       5   Black    S         Plastic   \n",
      "197  T2005   25.000        29       2    Blue    M            Wood   \n",
      "198  T2006   41.000         9       1  Yellow    L  Aluminun Alloy   \n",
      "199  P2015   41.000         9       3   White    S            Wood   \n",
      "\n",
      "                  Seller  \n",
      "0               MEDIMOPS  \n",
      "1            musicMagpie  \n",
      "2            Pharmapacks  \n",
      "3     World of Books Ltd  \n",
      "4               momox fr  \n",
      "..                   ...  \n",
      "195        supermart USA  \n",
      "196          KW-Commerce  \n",
      "197         CSL-Computer  \n",
      "198           Spigen Inc  \n",
      "199  UGREEN GROUP LIMIT…  \n",
      "\n",
      "[200 rows x 8 columns]\n",
      "      ID  Price  Quantity  Rating Color Size Material   Type\n",
      "0  P2008  100.0        50       1   Red    L     Wood  Table\n"
     ]
    }
   ],
   "source": [
    "#Data preprocessing\n",
    "data['Price'] = data['Price'].str.replace(',', '')\n",
    "data['Price'] = data['Price'].str.replace('$', '')\n",
    "data['Price'] = data['Price'].astype(float)\n",
    "print(data)\n",
    "\n",
    "#Data preprocessing the input\n",
    "\n",
    "user['Price'] = user['Price'].str.replace(',', '')\n",
    "user['Price'] = user['Price'].str.replace('$', '')\n",
    "user['Price'] = user['Price'].astype(float)\n",
    "print(user)\n"
   ]
  },
  {
   "cell_type": "code",
   "execution_count": 142,
   "metadata": {},
   "outputs": [
    {
     "name": "stdout",
     "output_type": "stream",
     "text": [
      "      ID  Price  Quantity  Rating Color Size Material   Type\n",
      "0  P2008  100.0        50       1   Red    L     Wood  Table\n",
      "100.0\n",
      "50\n"
     ]
    }
   ],
   "source": [
    "#Getting specified quantity\n",
    "print(user)\n",
    "user_price = float(user['Price'])\n",
    "user_quantity = user['Quantity']\n",
    "user_quantity =  user_quantity.to_numpy()\n",
    "user_quantity =  int(user_quantity)\n",
    "\n",
    "print(user_price)\n",
    "print(user_quantity)"
   ]
  },
  {
   "cell_type": "code",
   "execution_count": 143,
   "metadata": {},
   "outputs": [
    {
     "name": "stdout",
     "output_type": "stream",
     "text": [
      "Same models are available for cheaper price\n",
      "       ID  Price  Quantity  Rating   Color Size Material          Seller\n",
      "24  P2008    4.0        51       4   Black    L     Wood  Decluttr Store\n",
      "45  P2008    4.0        94       2  Yellow    S     Wood    CSL-Computer\n"
     ]
    }
   ],
   "source": [
    "#Compareing the availability of the same model\n",
    "\n",
    "same_model = data[data['ID'] == 'P2008']\n",
    "\n",
    "same_model_quantity = same_model[same_model['Quantity'] >= user_quantity]\n",
    "\n",
    "if same_model_quantity.empty:\n",
    "    #Input logic recommend another brand here\n",
    "    user_Size = str(user['Size'])\n",
    "    user_Material = str(user['Material'])\n",
    "    print(user_Material)\n",
    "    print(user_Size)\n",
    "\n",
    "    print(data)\n",
    "\n",
    "    diff_model = data[data['ID'] != 'P2008']\n",
    "    diff_model = diff_model[diff_model['Size'] == user_Size]\n",
    "    diff_model = diff_model[diff_model['Material'] == user_Material]\n",
    "\n",
    "    print(diff_model)\n",
    "    if diff_model.empty:\n",
    "        print(\"Altenative brands for this specification is not available\")\n",
    "        time.sleep(10)\n",
    "        print(\"Altenative brands for different specifications is available\")\n",
    "        time.sleep(10)\n",
    "        print(diff_model)\n",
    "    else:\n",
    "        print(\"Altenative brands for this specification is available\")\n",
    "        print(diff_model)\n",
    "else:\n",
    "    #Compareing the value of the same model\n",
    "    same_model_price = same_model_quantity[same_model_quantity['Price'] < user_price]\n",
    "    print(\"Same models are available for cheaper price\")\n",
    "\n",
    "    print(same_model_price)\n",
    "\n",
    "\n",
    "\n",
    "    \n",
    "    "
   ]
  },
  {
   "cell_type": "code",
   "execution_count": null,
   "metadata": {},
   "outputs": [],
   "source": []
  },
  {
   "cell_type": "code",
   "execution_count": null,
   "metadata": {},
   "outputs": [],
   "source": [
    "\n"
   ]
  },
  {
   "cell_type": "code",
   "execution_count": null,
   "metadata": {},
   "outputs": [],
   "source": []
  },
  {
   "cell_type": "code",
   "execution_count": null,
   "metadata": {},
   "outputs": [],
   "source": []
  },
  {
   "cell_type": "code",
   "execution_count": null,
   "metadata": {},
   "outputs": [],
   "source": []
  }
 ],
 "metadata": {
  "hide_input": false,
  "kernelspec": {
   "display_name": "Python 3",
   "language": "python",
   "name": "python3"
  },
  "language_info": {
   "codemirror_mode": {
    "name": "ipython",
    "version": 3
   },
   "file_extension": ".py",
   "mimetype": "text/x-python",
   "name": "python",
   "nbconvert_exporter": "python",
   "pygments_lexer": "ipython3",
   "version": "3.7.4"
  },
  "toc": {
   "base_numbering": 1,
   "nav_menu": {},
   "number_sections": true,
   "sideBar": true,
   "skip_h1_title": false,
   "title_cell": "Table of Contents",
   "title_sidebar": "Contents",
   "toc_cell": false,
   "toc_position": {},
   "toc_section_display": true,
   "toc_window_display": false
  },
  "varInspector": {
   "cols": {
    "lenName": 16,
    "lenType": 16,
    "lenVar": 40
   },
   "kernels_config": {
    "python": {
     "delete_cmd_postfix": "",
     "delete_cmd_prefix": "del ",
     "library": "var_list.py",
     "varRefreshCmd": "print(var_dic_list())"
    },
    "r": {
     "delete_cmd_postfix": ") ",
     "delete_cmd_prefix": "rm(",
     "library": "var_list.r",
     "varRefreshCmd": "cat(var_dic_list()) "
    }
   },
   "types_to_exclude": [
    "module",
    "function",
    "builtin_function_or_method",
    "instance",
    "_Feature"
   ],
   "window_display": false
  }
 },
 "nbformat": 4,
 "nbformat_minor": 2
}
